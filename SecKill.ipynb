{
 "cells": [
  {
   "cell_type": "markdown",
   "metadata": {
    "collapsed": true
   },
   "source": [
    "1、导入所需要的包"
   ]
  },
  {
   "cell_type": "code",
   "execution_count": 1,
   "metadata": {
    "collapsed": true
   },
   "outputs": [],
   "source": [
    "# -*- coding: utf-8 -*-\n",
    "import requests as r\n",
    "import json\n",
    "import datetime"
   ]
  },
  {
   "cell_type": "markdown",
   "metadata": {},
   "source": [
    "2、创建Session，为了登录后保持会话状态"
   ]
  },
  {
   "cell_type": "code",
   "execution_count": 2,
   "metadata": {
    "collapsed": true
   },
   "outputs": [],
   "source": [
    "sess = r.Session()"
   ]
  },
  {
   "cell_type": "markdown",
   "metadata": {},
   "source": [
    "3、post请求登录"
   ]
  },
  {
   "cell_type": "code",
   "execution_count": 3,
   "metadata": {
    "collapsed": false
   },
   "outputs": [],
   "source": [
    "data = {\"username\":\"****\",\"password\":\"****\"}\n",
    "login = sess.post(\"http://www.dcjingsai.com/user/common/login.json\",data=data)"
   ]
  },
  {
   "cell_type": "markdown",
   "metadata": {},
   "source": [
    "4、登录结果输出"
   ]
  },
  {
   "cell_type": "code",
   "execution_count": 4,
   "metadata": {
    "collapsed": false
   },
   "outputs": [
    {
     "data": {
      "text/plain": [
       "'{\"data\":{\"redirect\":null,\"id\":\"user26821\",\"userName\":\"Jinbao\"},\"msg\":\"欢迎登录\",\"flag\":true,\"login\":true}'"
      ]
     },
     "execution_count": 4,
     "metadata": {},
     "output_type": "execute_result"
    }
   ],
   "source": [
    "login.text"
   ]
  },
  {
   "cell_type": "markdown",
   "metadata": {},
   "source": [
    "5、先将比赛预测的结果由json字符串转换成字符串，post请求提交预测的结果"
   ]
  },
  {
   "cell_type": "code",
   "execution_count": 5,
   "metadata": {
    "collapsed": false
   },
   "outputs": [],
   "source": [
    "predict = json.dumps(\"home,away,result1,result2\\n比利时,英格兰,胜,负\")\n",
    "response = sess.post(\"http://www.dcjingsai.com/user/file/uploadSubmissionFileByString.json\",data=predict)"
   ]
  },
  {
   "cell_type": "markdown",
   "metadata": {},
   "source": [
    "5、提交结果输出"
   ]
  },
  {
   "cell_type": "code",
   "execution_count": 6,
   "metadata": {
    "collapsed": false
   },
   "outputs": [
    {
     "data": {
      "text/plain": [
       "'{\"data\":{\"fullPath\":\"http://pu-datacastle.oss-cn-qingdao.aliyuncs.com/content/data/String_d18d9a62-f04c-4613-8565-df69a4f25144.csv\",\"fileId\":96199},\"msg\":\"\",\"flag\":true,\"login\":true}'"
      ]
     },
     "execution_count": 6,
     "metadata": {},
     "output_type": "execute_result"
    }
   ],
   "source": [
    "response.text"
   ]
  },
  {
   "cell_type": "markdown",
   "metadata": {},
   "source": [
    "6、将结果转换为json"
   ]
  },
  {
   "cell_type": "code",
   "execution_count": 7,
   "metadata": {
    "collapsed": false
   },
   "outputs": [
    {
     "name": "stdout",
     "output_type": "stream",
     "text": [
      "{'login': True, 'data': {'fullPath': 'http://pu-datacastle.oss-cn-qingdao.aliyuncs.com/content/data/String_d18d9a62-f04c-4613-8565-df69a4f25144.csv', 'fileId': 96199}, 'msg': '', 'flag': True}\n"
     ]
    }
   ],
   "source": [
    "data = json.loads(response.text)\n",
    "print(data)"
   ]
  },
  {
   "cell_type": "markdown",
   "metadata": {},
   "source": [
    "7、获取刚才提交的字符串存放的文件地址"
   ]
  },
  {
   "cell_type": "code",
   "execution_count": 8,
   "metadata": {
    "collapsed": false
   },
   "outputs": [
    {
     "name": "stdout",
     "output_type": "stream",
     "text": [
      "http://pu-datacastle.oss-cn-qingdao.aliyuncs.com/content/data/String_d18d9a62-f04c-4613-8565-df69a4f25144.csv\n"
     ]
    }
   ],
   "source": [
    "path = data['data']['fullPath']\n",
    "print(path)"
   ]
  },
  {
   "cell_type": "markdown",
   "metadata": {},
   "source": [
    "8、获取文件名"
   ]
  },
  {
   "cell_type": "code",
   "execution_count": 9,
   "metadata": {
    "collapsed": false
   },
   "outputs": [
    {
     "name": "stdout",
     "output_type": "stream",
     "text": [
      "String_8512d97a-d1bf-4cd2-b64a-0180593f3c2b.csv\n"
     ]
    }
   ],
   "source": [
    "paths = path.split('/')\n",
    "print(paths[-1])"
   ]
  },
  {
   "cell_type": "markdown",
   "metadata": {},
   "source": [
    "9、准备需要传送的数据"
   ]
  },
  {
   "cell_type": "code",
   "execution_count": 10,
   "metadata": {
    "collapsed": true
   },
   "outputs": [],
   "source": [
    "d = {\n",
    "    \"description\": \"\",\n",
    "    \"stageId\": \"124\",\n",
    "    \"cmpId\": \"228\",\n",
    "    \"name\": paths[-1],\n",
    "    \"filePath\": path\n",
    "}"
   ]
  },
  {
   "cell_type": "markdown",
   "metadata": {},
   "source": [
    "10、真正直接提交结果"
   ]
  },
  {
   "cell_type": "code",
   "execution_count": 11,
   "metadata": {
    "collapsed": true
   },
   "outputs": [],
   "source": [
    "ans = sess.post(\"http://www.dcjingsai.com/user/cmpt/commitResult.json\",data=d)"
   ]
  },
  {
   "cell_type": "markdown",
   "metadata": {},
   "source": [
    "11、最后提交的结果"
   ]
  },
  {
   "cell_type": "code",
   "execution_count": 12,
   "metadata": {
    "collapsed": false
   },
   "outputs": [
    {
     "data": {
      "text/plain": [
       "'{\"data\":{\"scoreUpAndDown\":\"相等\",\"综合排行\":\"31-0\",\"mySubRank\":2.0},\"msg\":\"提交成功！\",\"flag\":false,\"login\":true}'"
      ]
     },
     "execution_count": 12,
     "metadata": {},
     "output_type": "execute_result"
    }
   ],
   "source": [
    "ans.text"
   ]
  },
  {
   "cell_type": "markdown",
   "metadata": {},
   "source": [
    "12、获取当前时间，定时提交"
   ]
  },
  {
   "cell_type": "code",
   "execution_count": 13,
   "metadata": {
    "collapsed": false
   },
   "outputs": [
    {
     "name": "stdout",
     "output_type": "stream",
     "text": [
      "2018-07-12 22:10:00.009608\n",
      "{\"data\":{\"scoreUpAndDown\":\"相等\",\"综合排行\":\"31-0\",\"mySubRank\":2.0},\"msg\":\"提交成功！\",\"flag\":false,\"login\":true}\n",
      "2018-07-12 22:10:00.981258\n",
      "{\"data\":{\"scoreUpAndDown\":\"相等\",\"综合排行\":\"31-0\",\"mySubRank\":3},\"msg\":\"提交成功！\",\"flag\":false,\"login\":true}\n"
     ]
    }
   ],
   "source": [
    "while True:\n",
    "    now_time = str(datetime.datetime.now())\n",
    "    if '2018-07-12 22:10:00'==now_time[:19]:\n",
    "        ans = sess.post(\"http://www.dcjingsai.com/user/cmpt/commitResult.json\",data=d)\n",
    "        print(now_time)\n",
    "        print(ans.text)\n",
    "    if '2018-07-12 22:10:05'==now_time[:19]:\n",
    "        break"
   ]
  },
  {
   "cell_type": "code",
   "execution_count": null,
   "metadata": {
    "collapsed": true
   },
   "outputs": [],
   "source": []
  }
 ],
 "metadata": {
  "kernelspec": {
   "display_name": "Python [conda root]",
   "language": "python",
   "name": "conda-root-py"
  },
  "language_info": {
   "codemirror_mode": {
    "name": "ipython",
    "version": 3
   },
   "file_extension": ".py",
   "mimetype": "text/x-python",
   "name": "python",
   "nbconvert_exporter": "python",
   "pygments_lexer": "ipython3",
   "version": "3.5.2"
  }
 },
 "nbformat": 4,
 "nbformat_minor": 1
}
