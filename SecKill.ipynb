{
 "cells": [
  {
   "cell_type": "markdown",
   "metadata": {
    "collapsed": true
   },
   "source": [
    "1、导入所需要的包"
   ]
  },
  {
   "cell_type": "code",
   "execution_count": 1,
   "metadata": {
    "collapsed": true
   },
   "outputs": [],
   "source": [
    "# -*- coding: utf-8 -*-\n",
    "import requests as r\n",
    "import json\n",
    "import datetime"
   ]
  },
  {
   "cell_type": "markdown",
   "metadata": {},
   "source": [
    "2、创建Session，为了登录后保持会话状态"
   ]
  },
  {
   "cell_type": "code",
   "execution_count": 2,
   "metadata": {
    "collapsed": true
   },
   "outputs": [],
   "source": [
    "sess = r.Session()"
   ]
  },
  {
   "cell_type": "markdown",
   "metadata": {},
   "source": [
    "3、post请求登录"
   ]
  },
  {
   "cell_type": "code",
   "execution_count": 3,
   "metadata": {
    "collapsed": false
   },
   "outputs": [],
   "source": [
    "data = {\"username\":\"Jinbao\",\"password\":\"DJB.11283814\"}\n",
    "login = sess.post(\"http://www.dcjingsai.com/user/common/login.json\",data=data)"
   ]
  },
  {
   "cell_type": "markdown",
   "metadata": {},
   "source": [
    "4、登录结果输出"
   ]
  },
  {
   "cell_type": "code",
   "execution_count": 4,
   "metadata": {
    "collapsed": false
   },
   "outputs": [
    {
     "data": {
      "text/plain": [
       "'{\"data\":{\"redirect\":null,\"id\":\"user26821\",\"userName\":\"Jinbao\"},\"msg\":\"欢迎登录\",\"flag\":true,\"login\":true}'"
      ]
     },
     "execution_count": 4,
     "metadata": {},
     "output_type": "execute_result"
    }
   ],
   "source": [
    "login.text"
   ]
  },
  {
   "cell_type": "code",
   "execution_count": 11,
   "metadata": {
    "collapsed": false
   },
   "outputs": [
    {
     "name": "stdout",
     "output_type": "stream",
     "text": [
      "home,away,result1,result2\n",
      "比利时,英格兰,胜,负 <class 'str'>\n"
     ]
    }
   ],
   "source": [
    "predict = json.dumps(\"home,away,result1,result2\\n比利时,英格兰,胜,负\")\n",
    "predict = \"home,away,result1,result2\\n比利时,英格兰,胜,负\"\n",
    "print(predict,type(predict))"
   ]
  },
  {
   "cell_type": "markdown",
   "metadata": {},
   "source": [
    "5、先将比赛预测的结果由json字符串转换成字符串，post请求提交预测的结果"
   ]
  },
  {
   "cell_type": "code",
   "execution_count": 15,
   "metadata": {
    "collapsed": false
   },
   "outputs": [],
   "source": [
    "predict = \"home,away,result1,result2\\n比利时,英格兰,胜,负\"\n",
    "response = sess.post(\"http://www.dcjingsai.com/user/file/uploadSubmissionFileByString.json\",data=predict.encode('utf-8'))"
   ]
  },
  {
   "cell_type": "markdown",
   "metadata": {},
   "source": [
    "5、提交结果输出"
   ]
  },
  {
   "cell_type": "code",
   "execution_count": 16,
   "metadata": {
    "collapsed": false
   },
   "outputs": [
    {
     "data": {
      "text/plain": [
       "'{\"data\":{\"fullPath\":\"http://pu-datacastle.oss-cn-qingdao.aliyuncs.com/content/data/String_492ef287-660d-401d-adb7-2f91680ae75f.csv\",\"fileId\":97394},\"msg\":\"\",\"flag\":true,\"login\":true}'"
      ]
     },
     "execution_count": 16,
     "metadata": {},
     "output_type": "execute_result"
    }
   ],
   "source": [
    "response.text"
   ]
  },
  {
   "cell_type": "markdown",
   "metadata": {},
   "source": [
    "6、将结果转换为json"
   ]
  },
  {
   "cell_type": "code",
   "execution_count": 7,
   "metadata": {
    "collapsed": false
   },
   "outputs": [
    {
     "name": "stdout",
     "output_type": "stream",
     "text": [
      "{'data': {'fullPath': 'http://pu-datacastle.oss-cn-qingdao.aliyuncs.com/content/data/String_f14a70b3-c33f-4629-8b38-fbad343eb8fc.csv', 'fileId': 96998}, 'msg': '', 'login': True, 'flag': True}\n"
     ]
    }
   ],
   "source": [
    "data = json.loads(response.text)\n",
    "print(data)"
   ]
  },
  {
   "cell_type": "markdown",
   "metadata": {},
   "source": [
    "7、获取刚才提交的字符串存放的文件地址"
   ]
  },
  {
   "cell_type": "code",
   "execution_count": 8,
   "metadata": {
    "collapsed": false
   },
   "outputs": [
    {
     "name": "stdout",
     "output_type": "stream",
     "text": [
      "http://pu-datacastle.oss-cn-qingdao.aliyuncs.com/content/data/String_f14a70b3-c33f-4629-8b38-fbad343eb8fc.csv\n"
     ]
    }
   ],
   "source": [
    "path = data['data']['fullPath']\n",
    "print(path)\n",
    "path = 'http://pu-datacastle.oss-cn-qingdao.aliyuncs.com/content/data/String_8512d97a-d1bf-4cd2-b64a-0180593f3c2b.csv'"
   ]
  },
  {
   "cell_type": "markdown",
   "metadata": {},
   "source": [
    "8、获取文件名"
   ]
  },
  {
   "cell_type": "code",
   "execution_count": 9,
   "metadata": {
    "collapsed": false
   },
   "outputs": [
    {
     "name": "stdout",
     "output_type": "stream",
     "text": [
      "String_8512d97a-d1bf-4cd2-b64a-0180593f3c2b.csv\n"
     ]
    }
   ],
   "source": [
    "paths = path.split('/')\n",
    "print(paths[-1])"
   ]
  },
  {
   "cell_type": "markdown",
   "metadata": {},
   "source": [
    "9、准备需要传送的数据"
   ]
  },
  {
   "cell_type": "code",
   "execution_count": 10,
   "metadata": {
    "collapsed": true
   },
   "outputs": [],
   "source": [
    "d = {\n",
    "    \"description\": \"\",\n",
    "    \"stageId\": \"124\",\n",
    "    \"cmpId\": \"228\",\n",
    "    \"name\": paths[-1],\n",
    "    \"filePath\": path\n",
    "}"
   ]
  },
  {
   "cell_type": "markdown",
   "metadata": {},
   "source": [
    "10、真正直接提交结果"
   ]
  },
  {
   "cell_type": "code",
   "execution_count": 11,
   "metadata": {
    "collapsed": true
   },
   "outputs": [],
   "source": [
    "ans = sess.post(\"http://www.dcjingsai.com/user/cmpt/commitResult.json\",data=d)"
   ]
  },
  {
   "cell_type": "markdown",
   "metadata": {},
   "source": [
    "11、最后提交的结果"
   ]
  },
  {
   "cell_type": "code",
   "execution_count": 12,
   "metadata": {
    "collapsed": false
   },
   "outputs": [
    {
     "data": {
      "text/plain": [
       "'{\"data\":{\"scoreUpAndDown\":\"相等\",\"综合排行\":\"31-0\",\"mySubRank\":2.0},\"msg\":\"提交成功！\",\"flag\":false,\"login\":true}'"
      ]
     },
     "execution_count": 12,
     "metadata": {},
     "output_type": "execute_result"
    }
   ],
   "source": [
    "ans.text"
   ]
  },
  {
   "cell_type": "markdown",
   "metadata": {},
   "source": [
    "12、获取当前时间，定时提交"
   ]
  },
  {
   "cell_type": "code",
   "execution_count": 14,
   "metadata": {
    "collapsed": false
   },
   "outputs": [
    {
     "name": "stdout",
     "output_type": "stream",
     "text": [
      "2018-07-14 14:00:45.218209\n",
      "{\"data\":{},\"msg\":\"超过提交次数\",\"flag\":false,\"login\":true}\n",
      "2018-07-14 14:00:45.317274\n",
      "{\"data\":{},\"msg\":\"超过提交次数\",\"flag\":false,\"login\":true}\n",
      "2018-07-14 14:00:45.419343\n",
      "{\"data\":{},\"msg\":\"超过提交次数\",\"flag\":false,\"login\":true}\n",
      "2018-07-14 14:00:45.521414\n",
      "{\"data\":{},\"msg\":\"超过提交次数\",\"flag\":false,\"login\":true}\n",
      "2018-07-14 14:00:45.625480\n",
      "{\"data\":{},\"msg\":\"超过提交次数\",\"flag\":false,\"login\":true}\n",
      "2018-07-14 14:00:45.716540\n",
      "{\"data\":{},\"msg\":\"超过提交次数\",\"flag\":false,\"login\":true}\n",
      "2018-07-14 14:00:45.836619\n",
      "{\"data\":{},\"msg\":\"超过提交次数\",\"flag\":false,\"login\":true}\n",
      "2018-07-14 14:00:45.961858\n",
      "{\"data\":{},\"msg\":\"超过提交次数\",\"flag\":false,\"login\":true}\n",
      "2018-07-14 14:00:46.074936\n",
      "{\"data\":{},\"msg\":\"超过提交次数\",\"flag\":false,\"login\":true}\n",
      "2018-07-14 14:00:46.183005\n",
      "{\"data\":{},\"msg\":\"超过提交次数\",\"flag\":false,\"login\":true}\n",
      "2018-07-14 14:00:46.271064\n",
      "{\"data\":{},\"msg\":\"超过提交次数\",\"flag\":false,\"login\":true}\n",
      "2018-07-14 14:00:46.427166\n",
      "{\"data\":{},\"msg\":\"超过提交次数\",\"flag\":false,\"login\":true}\n",
      "2018-07-14 14:00:46.526248\n",
      "{\"data\":{},\"msg\":\"超过提交次数\",\"flag\":false,\"login\":true}\n",
      "2018-07-14 14:00:46.622444\n",
      "{\"data\":{},\"msg\":\"超过提交次数\",\"flag\":false,\"login\":true}\n",
      "2018-07-14 14:00:46.737575\n",
      "{\"data\":{},\"msg\":\"超过提交次数\",\"flag\":false,\"login\":true}\n",
      "2018-07-14 14:00:46.831644\n",
      "{\"data\":{},\"msg\":\"超过提交次数\",\"flag\":false,\"login\":true}\n",
      "2018-07-14 14:00:46.919703\n",
      "{\"data\":{},\"msg\":\"超过提交次数\",\"flag\":false,\"login\":true}\n",
      "2018-07-14 14:00:47.022770\n",
      "{\"data\":{},\"msg\":\"超过提交次数\",\"flag\":false,\"login\":true}\n",
      "2018-07-14 14:00:47.114832\n",
      "{\"data\":{},\"msg\":\"超过提交次数\",\"flag\":false,\"login\":true}\n",
      "2018-07-14 14:00:47.312963\n",
      "{\"data\":{},\"msg\":\"超过提交次数\",\"flag\":false,\"login\":true}\n",
      "2018-07-14 14:00:47.382009\n",
      "{\"data\":{},\"msg\":\"超过提交次数\",\"flag\":false,\"login\":true}\n",
      "2018-07-14 14:00:47.453056\n",
      "{\"data\":{},\"msg\":\"超过提交次数\",\"flag\":false,\"login\":true}\n",
      "2018-07-14 14:00:47.520100\n",
      "{\"data\":{},\"msg\":\"超过提交次数\",\"flag\":false,\"login\":true}\n",
      "2018-07-14 14:00:47.588146\n",
      "{\"data\":{},\"msg\":\"超过提交次数\",\"flag\":false,\"login\":true}\n",
      "2018-07-14 14:00:47.653202\n",
      "{\"data\":{},\"msg\":\"超过提交次数\",\"flag\":false,\"login\":true}\n",
      "2018-07-14 14:00:47.716244\n",
      "{\"data\":{},\"msg\":\"超过提交次数\",\"flag\":false,\"login\":true}\n",
      "2018-07-14 14:00:47.795297\n",
      "{\"data\":{},\"msg\":\"超过提交次数\",\"flag\":false,\"login\":true}\n",
      "2018-07-14 14:00:47.875349\n",
      "{\"data\":{},\"msg\":\"超过提交次数\",\"flag\":false,\"login\":true}\n",
      "2018-07-14 14:00:47.942394\n",
      "{\"data\":{},\"msg\":\"超过提交次数\",\"flag\":false,\"login\":true}\n",
      "2018-07-14 14:00:48.021447\n",
      "{\"data\":{},\"msg\":\"超过提交次数\",\"flag\":false,\"login\":true}\n",
      "2018-07-14 14:00:48.108505\n",
      "{\"data\":{},\"msg\":\"超过提交次数\",\"flag\":false,\"login\":true}\n",
      "2018-07-14 14:00:48.199565\n",
      "{\"data\":{},\"msg\":\"超过提交次数\",\"flag\":false,\"login\":true}\n",
      "2018-07-14 14:00:48.275615\n",
      "{\"data\":{},\"msg\":\"超过提交次数\",\"flag\":false,\"login\":true}\n",
      "2018-07-14 14:00:48.354668\n",
      "{\"data\":{},\"msg\":\"超过提交次数\",\"flag\":false,\"login\":true}\n",
      "2018-07-14 14:00:48.427717\n",
      "{\"data\":{},\"msg\":\"超过提交次数\",\"flag\":false,\"login\":true}\n",
      "2018-07-14 14:00:48.497763\n",
      "{\"data\":{},\"msg\":\"超过提交次数\",\"flag\":false,\"login\":true}\n",
      "2018-07-14 14:00:48.562806\n",
      "{\"data\":{},\"msg\":\"超过提交次数\",\"flag\":false,\"login\":true}\n",
      "2018-07-14 14:00:48.640858\n",
      "{\"data\":{},\"msg\":\"超过提交次数\",\"flag\":false,\"login\":true}\n",
      "2018-07-14 14:00:48.705901\n",
      "{\"data\":{},\"msg\":\"超过提交次数\",\"flag\":false,\"login\":true}\n",
      "2018-07-14 14:00:48.797962\n",
      "{\"data\":{},\"msg\":\"超过提交次数\",\"flag\":false,\"login\":true}\n",
      "2018-07-14 14:00:48.865007\n",
      "{\"data\":{},\"msg\":\"超过提交次数\",\"flag\":false,\"login\":true}\n",
      "2018-07-14 14:00:48.946060\n",
      "{\"data\":{},\"msg\":\"超过提交次数\",\"flag\":false,\"login\":true}\n",
      "2018-07-14 14:00:49.018108\n",
      "{\"data\":{},\"msg\":\"超过提交次数\",\"flag\":false,\"login\":true}\n",
      "2018-07-14 14:00:49.088156\n",
      "{\"data\":{},\"msg\":\"超过提交次数\",\"flag\":false,\"login\":true}\n",
      "2018-07-14 14:00:49.159205\n",
      "{\"data\":{},\"msg\":\"超过提交次数\",\"flag\":false,\"login\":true}\n",
      "2018-07-14 14:00:49.227251\n",
      "{\"data\":{},\"msg\":\"超过提交次数\",\"flag\":false,\"login\":true}\n",
      "2018-07-14 14:00:49.294291\n",
      "{\"data\":{},\"msg\":\"超过提交次数\",\"flag\":false,\"login\":true}\n",
      "2018-07-14 14:00:49.365339\n",
      "{\"data\":{},\"msg\":\"超过提交次数\",\"flag\":false,\"login\":true}\n",
      "2018-07-14 14:00:49.439388\n",
      "{\"data\":{},\"msg\":\"超过提交次数\",\"flag\":false,\"login\":true}\n",
      "2018-07-14 14:00:49.514439\n",
      "{\"data\":{},\"msg\":\"超过提交次数\",\"flag\":false,\"login\":true}\n",
      "2018-07-14 14:00:49.586334\n",
      "{\"data\":{},\"msg\":\"超过提交次数\",\"flag\":false,\"login\":true}\n",
      "2018-07-14 14:00:49.658494\n",
      "{\"data\":{},\"msg\":\"超过提交次数\",\"flag\":false,\"login\":true}\n",
      "2018-07-14 14:00:49.731080\n",
      "{\"data\":{},\"msg\":\"超过提交次数\",\"flag\":false,\"login\":true}\n",
      "2018-07-14 14:00:49.823670\n",
      "{\"data\":{},\"msg\":\"超过提交次数\",\"flag\":false,\"login\":true}\n",
      "2018-07-14 14:00:49.939383\n",
      "{\"data\":{},\"msg\":\"超过提交次数\",\"flag\":false,\"login\":true}\n",
      "2018-07-14 14:00:50.009058\n",
      "{\"data\":{},\"msg\":\"超过提交次数\",\"flag\":false,\"login\":true}\n",
      "2018-07-14 14:00:50.080105\n",
      "{\"data\":{},\"msg\":\"超过提交次数\",\"flag\":false,\"login\":true}\n",
      "2018-07-14 14:00:50.152153\n",
      "{\"data\":{},\"msg\":\"超过提交次数\",\"flag\":false,\"login\":true}\n",
      "2018-07-14 14:00:50.239211\n",
      "{\"data\":{},\"msg\":\"超过提交次数\",\"flag\":false,\"login\":true}\n",
      "2018-07-14 14:00:50.311258\n",
      "{\"data\":{},\"msg\":\"超过提交次数\",\"flag\":false,\"login\":true}\n",
      "2018-07-14 14:00:50.388312\n",
      "{\"data\":{},\"msg\":\"超过提交次数\",\"flag\":false,\"login\":true}\n",
      "2018-07-14 14:00:50.459374\n",
      "{\"data\":{},\"msg\":\"超过提交次数\",\"flag\":false,\"login\":true}\n",
      "2018-07-14 14:00:50.524418\n",
      "{\"data\":{},\"msg\":\"超过提交次数\",\"flag\":false,\"login\":true}\n",
      "2018-07-14 14:00:50.592464\n",
      "{\"data\":{},\"msg\":\"超过提交次数\",\"flag\":false,\"login\":true}\n",
      "2018-07-14 14:00:50.665513\n",
      "{\"data\":{},\"msg\":\"超过提交次数\",\"flag\":false,\"login\":true}\n",
      "2018-07-14 14:00:50.736562\n",
      "{\"data\":{},\"msg\":\"超过提交次数\",\"flag\":false,\"login\":true}\n",
      "2018-07-14 14:00:50.814610\n",
      "{\"data\":{},\"msg\":\"超过提交次数\",\"flag\":false,\"login\":true}\n",
      "2018-07-14 14:00:50.885658\n",
      "{\"data\":{},\"msg\":\"超过提交次数\",\"flag\":false,\"login\":true}\n",
      "2018-07-14 14:00:50.966711\n",
      "{\"data\":{},\"msg\":\"超过提交次数\",\"flag\":false,\"login\":true}\n",
      "2018-07-14 14:00:51.053768\n",
      "{\"data\":{},\"msg\":\"超过提交次数\",\"flag\":false,\"login\":true}\n",
      "2018-07-14 14:00:51.133823\n",
      "{\"data\":{},\"msg\":\"超过提交次数\",\"flag\":false,\"login\":true}\n"
     ]
    },
    {
     "ename": "KeyboardInterrupt",
     "evalue": "",
     "output_type": "error",
     "traceback": [
      "\u001b[0;31m---------------------------------------------------------------------------\u001b[0m",
      "\u001b[0;31mTypeError\u001b[0m                                 Traceback (most recent call last)",
      "\u001b[0;32mC:\\Users\\JinbaoSite\\Anaconda3\\lib\\site-packages\\requests\\packages\\urllib3\\connectionpool.py\u001b[0m in \u001b[0;36m_make_request\u001b[0;34m(self, conn, method, url, timeout, chunked, **httplib_request_kw)\u001b[0m\n\u001b[1;32m    378\u001b[0m             \u001b[1;32mtry\u001b[0m\u001b[1;33m:\u001b[0m  \u001b[1;31m# Python 2.7, use buffering of HTTP responses\u001b[0m\u001b[1;33m\u001b[0m\u001b[0m\n\u001b[0;32m--> 379\u001b[0;31m                 \u001b[0mhttplib_response\u001b[0m \u001b[1;33m=\u001b[0m \u001b[0mconn\u001b[0m\u001b[1;33m.\u001b[0m\u001b[0mgetresponse\u001b[0m\u001b[1;33m(\u001b[0m\u001b[0mbuffering\u001b[0m\u001b[1;33m=\u001b[0m\u001b[1;32mTrue\u001b[0m\u001b[1;33m)\u001b[0m\u001b[1;33m\u001b[0m\u001b[0m\n\u001b[0m\u001b[1;32m    380\u001b[0m             \u001b[1;32mexcept\u001b[0m \u001b[0mTypeError\u001b[0m\u001b[1;33m:\u001b[0m  \u001b[1;31m# Python 2.6 and older, Python 3\u001b[0m\u001b[1;33m\u001b[0m\u001b[0m\n",
      "\u001b[0;31mTypeError\u001b[0m: getresponse() got an unexpected keyword argument 'buffering'",
      "\nDuring handling of the above exception, another exception occurred:\n",
      "\u001b[0;31mKeyboardInterrupt\u001b[0m                         Traceback (most recent call last)",
      "\u001b[0;32m<ipython-input-14-2f4d8cd7aaaf>\u001b[0m in \u001b[0;36m<module>\u001b[0;34m()\u001b[0m\n\u001b[1;32m      2\u001b[0m     \u001b[0mnow_time\u001b[0m \u001b[1;33m=\u001b[0m \u001b[0mstr\u001b[0m\u001b[1;33m(\u001b[0m\u001b[0mdatetime\u001b[0m\u001b[1;33m.\u001b[0m\u001b[0mdatetime\u001b[0m\u001b[1;33m.\u001b[0m\u001b[0mnow\u001b[0m\u001b[1;33m(\u001b[0m\u001b[1;33m)\u001b[0m\u001b[1;33m)\u001b[0m\u001b[1;33m\u001b[0m\u001b[0m\n\u001b[1;32m      3\u001b[0m     \u001b[1;31m#if '2018-07-14 13:59:59'==now_time[:19]:\u001b[0m\u001b[1;33m\u001b[0m\u001b[1;33m\u001b[0m\u001b[0m\n\u001b[0;32m----> 4\u001b[0;31m     \u001b[0mans\u001b[0m \u001b[1;33m=\u001b[0m \u001b[0msess\u001b[0m\u001b[1;33m.\u001b[0m\u001b[0mpost\u001b[0m\u001b[1;33m(\u001b[0m\u001b[1;34m\"http://www.dcjingsai.com/user/cmpt/commitResult.json\"\u001b[0m\u001b[1;33m,\u001b[0m\u001b[0mdata\u001b[0m\u001b[1;33m=\u001b[0m\u001b[0md\u001b[0m\u001b[1;33m)\u001b[0m\u001b[1;33m\u001b[0m\u001b[0m\n\u001b[0m\u001b[1;32m      5\u001b[0m     \u001b[0mprint\u001b[0m\u001b[1;33m(\u001b[0m\u001b[0mnow_time\u001b[0m\u001b[1;33m)\u001b[0m\u001b[1;33m\u001b[0m\u001b[0m\n\u001b[1;32m      6\u001b[0m     \u001b[0mprint\u001b[0m\u001b[1;33m(\u001b[0m\u001b[0mans\u001b[0m\u001b[1;33m.\u001b[0m\u001b[0mtext\u001b[0m\u001b[1;33m)\u001b[0m\u001b[1;33m\u001b[0m\u001b[0m\n",
      "\u001b[0;32mC:\\Users\\JinbaoSite\\Anaconda3\\lib\\site-packages\\requests\\sessions.py\u001b[0m in \u001b[0;36mpost\u001b[0;34m(self, url, data, json, **kwargs)\u001b[0m\n\u001b[1;32m    563\u001b[0m         \"\"\"\n\u001b[1;32m    564\u001b[0m \u001b[1;33m\u001b[0m\u001b[0m\n\u001b[0;32m--> 565\u001b[0;31m         \u001b[1;32mreturn\u001b[0m \u001b[0mself\u001b[0m\u001b[1;33m.\u001b[0m\u001b[0mrequest\u001b[0m\u001b[1;33m(\u001b[0m\u001b[1;34m'POST'\u001b[0m\u001b[1;33m,\u001b[0m \u001b[0murl\u001b[0m\u001b[1;33m,\u001b[0m \u001b[0mdata\u001b[0m\u001b[1;33m=\u001b[0m\u001b[0mdata\u001b[0m\u001b[1;33m,\u001b[0m \u001b[0mjson\u001b[0m\u001b[1;33m=\u001b[0m\u001b[0mjson\u001b[0m\u001b[1;33m,\u001b[0m \u001b[1;33m**\u001b[0m\u001b[0mkwargs\u001b[0m\u001b[1;33m)\u001b[0m\u001b[1;33m\u001b[0m\u001b[0m\n\u001b[0m\u001b[1;32m    566\u001b[0m \u001b[1;33m\u001b[0m\u001b[0m\n\u001b[1;32m    567\u001b[0m     \u001b[1;32mdef\u001b[0m \u001b[0mput\u001b[0m\u001b[1;33m(\u001b[0m\u001b[0mself\u001b[0m\u001b[1;33m,\u001b[0m \u001b[0murl\u001b[0m\u001b[1;33m,\u001b[0m \u001b[0mdata\u001b[0m\u001b[1;33m=\u001b[0m\u001b[1;32mNone\u001b[0m\u001b[1;33m,\u001b[0m \u001b[1;33m**\u001b[0m\u001b[0mkwargs\u001b[0m\u001b[1;33m)\u001b[0m\u001b[1;33m:\u001b[0m\u001b[1;33m\u001b[0m\u001b[0m\n",
      "\u001b[0;32mC:\\Users\\JinbaoSite\\Anaconda3\\lib\\site-packages\\requests\\sessions.py\u001b[0m in \u001b[0;36mrequest\u001b[0;34m(self, method, url, params, data, headers, cookies, files, auth, timeout, allow_redirects, proxies, hooks, stream, verify, cert, json)\u001b[0m\n\u001b[1;32m    516\u001b[0m         }\n\u001b[1;32m    517\u001b[0m         \u001b[0msend_kwargs\u001b[0m\u001b[1;33m.\u001b[0m\u001b[0mupdate\u001b[0m\u001b[1;33m(\u001b[0m\u001b[0msettings\u001b[0m\u001b[1;33m)\u001b[0m\u001b[1;33m\u001b[0m\u001b[0m\n\u001b[0;32m--> 518\u001b[0;31m         \u001b[0mresp\u001b[0m \u001b[1;33m=\u001b[0m \u001b[0mself\u001b[0m\u001b[1;33m.\u001b[0m\u001b[0msend\u001b[0m\u001b[1;33m(\u001b[0m\u001b[0mprep\u001b[0m\u001b[1;33m,\u001b[0m \u001b[1;33m**\u001b[0m\u001b[0msend_kwargs\u001b[0m\u001b[1;33m)\u001b[0m\u001b[1;33m\u001b[0m\u001b[0m\n\u001b[0m\u001b[1;32m    519\u001b[0m \u001b[1;33m\u001b[0m\u001b[0m\n\u001b[1;32m    520\u001b[0m         \u001b[1;32mreturn\u001b[0m \u001b[0mresp\u001b[0m\u001b[1;33m\u001b[0m\u001b[0m\n",
      "\u001b[0;32mC:\\Users\\JinbaoSite\\Anaconda3\\lib\\site-packages\\requests\\sessions.py\u001b[0m in \u001b[0;36msend\u001b[0;34m(self, request, **kwargs)\u001b[0m\n\u001b[1;32m    637\u001b[0m \u001b[1;33m\u001b[0m\u001b[0m\n\u001b[1;32m    638\u001b[0m         \u001b[1;31m# Send the request\u001b[0m\u001b[1;33m\u001b[0m\u001b[1;33m\u001b[0m\u001b[0m\n\u001b[0;32m--> 639\u001b[0;31m         \u001b[0mr\u001b[0m \u001b[1;33m=\u001b[0m \u001b[0madapter\u001b[0m\u001b[1;33m.\u001b[0m\u001b[0msend\u001b[0m\u001b[1;33m(\u001b[0m\u001b[0mrequest\u001b[0m\u001b[1;33m,\u001b[0m \u001b[1;33m**\u001b[0m\u001b[0mkwargs\u001b[0m\u001b[1;33m)\u001b[0m\u001b[1;33m\u001b[0m\u001b[0m\n\u001b[0m\u001b[1;32m    640\u001b[0m \u001b[1;33m\u001b[0m\u001b[0m\n\u001b[1;32m    641\u001b[0m         \u001b[1;31m# Total elapsed time of the request (approximately)\u001b[0m\u001b[1;33m\u001b[0m\u001b[1;33m\u001b[0m\u001b[0m\n",
      "\u001b[0;32mC:\\Users\\JinbaoSite\\Anaconda3\\lib\\site-packages\\requests\\adapters.py\u001b[0m in \u001b[0;36msend\u001b[0;34m(self, request, stream, timeout, verify, cert, proxies)\u001b[0m\n\u001b[1;32m    436\u001b[0m                     \u001b[0mdecode_content\u001b[0m\u001b[1;33m=\u001b[0m\u001b[1;32mFalse\u001b[0m\u001b[1;33m,\u001b[0m\u001b[1;33m\u001b[0m\u001b[0m\n\u001b[1;32m    437\u001b[0m                     \u001b[0mretries\u001b[0m\u001b[1;33m=\u001b[0m\u001b[0mself\u001b[0m\u001b[1;33m.\u001b[0m\u001b[0mmax_retries\u001b[0m\u001b[1;33m,\u001b[0m\u001b[1;33m\u001b[0m\u001b[0m\n\u001b[0;32m--> 438\u001b[0;31m                     \u001b[0mtimeout\u001b[0m\u001b[1;33m=\u001b[0m\u001b[0mtimeout\u001b[0m\u001b[1;33m\u001b[0m\u001b[0m\n\u001b[0m\u001b[1;32m    439\u001b[0m                 )\n\u001b[1;32m    440\u001b[0m \u001b[1;33m\u001b[0m\u001b[0m\n",
      "\u001b[0;32mC:\\Users\\JinbaoSite\\Anaconda3\\lib\\site-packages\\requests\\packages\\urllib3\\connectionpool.py\u001b[0m in \u001b[0;36murlopen\u001b[0;34m(self, method, url, body, headers, retries, redirect, assert_same_host, timeout, pool_timeout, release_conn, chunked, body_pos, **response_kw)\u001b[0m\n\u001b[1;32m    598\u001b[0m                                                   \u001b[0mtimeout\u001b[0m\u001b[1;33m=\u001b[0m\u001b[0mtimeout_obj\u001b[0m\u001b[1;33m,\u001b[0m\u001b[1;33m\u001b[0m\u001b[0m\n\u001b[1;32m    599\u001b[0m                                                   \u001b[0mbody\u001b[0m\u001b[1;33m=\u001b[0m\u001b[0mbody\u001b[0m\u001b[1;33m,\u001b[0m \u001b[0mheaders\u001b[0m\u001b[1;33m=\u001b[0m\u001b[0mheaders\u001b[0m\u001b[1;33m,\u001b[0m\u001b[1;33m\u001b[0m\u001b[0m\n\u001b[0;32m--> 600\u001b[0;31m                                                   chunked=chunked)\n\u001b[0m\u001b[1;32m    601\u001b[0m \u001b[1;33m\u001b[0m\u001b[0m\n\u001b[1;32m    602\u001b[0m             \u001b[1;31m# If we're going to release the connection in ``finally:``, then\u001b[0m\u001b[1;33m\u001b[0m\u001b[1;33m\u001b[0m\u001b[0m\n",
      "\u001b[0;32mC:\\Users\\JinbaoSite\\Anaconda3\\lib\\site-packages\\requests\\packages\\urllib3\\connectionpool.py\u001b[0m in \u001b[0;36m_make_request\u001b[0;34m(self, conn, method, url, timeout, chunked, **httplib_request_kw)\u001b[0m\n\u001b[1;32m    380\u001b[0m             \u001b[1;32mexcept\u001b[0m \u001b[0mTypeError\u001b[0m\u001b[1;33m:\u001b[0m  \u001b[1;31m# Python 2.6 and older, Python 3\u001b[0m\u001b[1;33m\u001b[0m\u001b[0m\n\u001b[1;32m    381\u001b[0m                 \u001b[1;32mtry\u001b[0m\u001b[1;33m:\u001b[0m\u001b[1;33m\u001b[0m\u001b[0m\n\u001b[0;32m--> 382\u001b[0;31m                     \u001b[0mhttplib_response\u001b[0m \u001b[1;33m=\u001b[0m \u001b[0mconn\u001b[0m\u001b[1;33m.\u001b[0m\u001b[0mgetresponse\u001b[0m\u001b[1;33m(\u001b[0m\u001b[1;33m)\u001b[0m\u001b[1;33m\u001b[0m\u001b[0m\n\u001b[0m\u001b[1;32m    383\u001b[0m                 \u001b[1;32mexcept\u001b[0m \u001b[0mException\u001b[0m \u001b[1;32mas\u001b[0m \u001b[0me\u001b[0m\u001b[1;33m:\u001b[0m\u001b[1;33m\u001b[0m\u001b[0m\n\u001b[1;32m    384\u001b[0m                     \u001b[1;31m# Remove the TypeError from the exception chain in Python 3;\u001b[0m\u001b[1;33m\u001b[0m\u001b[1;33m\u001b[0m\u001b[0m\n",
      "\u001b[0;32mC:\\Users\\JinbaoSite\\Anaconda3\\lib\\http\\client.py\u001b[0m in \u001b[0;36mgetresponse\u001b[0;34m(self)\u001b[0m\n\u001b[1;32m   1195\u001b[0m         \u001b[1;32mtry\u001b[0m\u001b[1;33m:\u001b[0m\u001b[1;33m\u001b[0m\u001b[0m\n\u001b[1;32m   1196\u001b[0m             \u001b[1;32mtry\u001b[0m\u001b[1;33m:\u001b[0m\u001b[1;33m\u001b[0m\u001b[0m\n\u001b[0;32m-> 1197\u001b[0;31m                 \u001b[0mresponse\u001b[0m\u001b[1;33m.\u001b[0m\u001b[0mbegin\u001b[0m\u001b[1;33m(\u001b[0m\u001b[1;33m)\u001b[0m\u001b[1;33m\u001b[0m\u001b[0m\n\u001b[0m\u001b[1;32m   1198\u001b[0m             \u001b[1;32mexcept\u001b[0m \u001b[0mConnectionError\u001b[0m\u001b[1;33m:\u001b[0m\u001b[1;33m\u001b[0m\u001b[0m\n\u001b[1;32m   1199\u001b[0m                 \u001b[0mself\u001b[0m\u001b[1;33m.\u001b[0m\u001b[0mclose\u001b[0m\u001b[1;33m(\u001b[0m\u001b[1;33m)\u001b[0m\u001b[1;33m\u001b[0m\u001b[0m\n",
      "\u001b[0;32mC:\\Users\\JinbaoSite\\Anaconda3\\lib\\http\\client.py\u001b[0m in \u001b[0;36mbegin\u001b[0;34m(self)\u001b[0m\n\u001b[1;32m    295\u001b[0m         \u001b[1;31m# read until we get a non-100 response\u001b[0m\u001b[1;33m\u001b[0m\u001b[1;33m\u001b[0m\u001b[0m\n\u001b[1;32m    296\u001b[0m         \u001b[1;32mwhile\u001b[0m \u001b[1;32mTrue\u001b[0m\u001b[1;33m:\u001b[0m\u001b[1;33m\u001b[0m\u001b[0m\n\u001b[0;32m--> 297\u001b[0;31m             \u001b[0mversion\u001b[0m\u001b[1;33m,\u001b[0m \u001b[0mstatus\u001b[0m\u001b[1;33m,\u001b[0m \u001b[0mreason\u001b[0m \u001b[1;33m=\u001b[0m \u001b[0mself\u001b[0m\u001b[1;33m.\u001b[0m\u001b[0m_read_status\u001b[0m\u001b[1;33m(\u001b[0m\u001b[1;33m)\u001b[0m\u001b[1;33m\u001b[0m\u001b[0m\n\u001b[0m\u001b[1;32m    298\u001b[0m             \u001b[1;32mif\u001b[0m \u001b[0mstatus\u001b[0m \u001b[1;33m!=\u001b[0m \u001b[0mCONTINUE\u001b[0m\u001b[1;33m:\u001b[0m\u001b[1;33m\u001b[0m\u001b[0m\n\u001b[1;32m    299\u001b[0m                 \u001b[1;32mbreak\u001b[0m\u001b[1;33m\u001b[0m\u001b[0m\n",
      "\u001b[0;32mC:\\Users\\JinbaoSite\\Anaconda3\\lib\\http\\client.py\u001b[0m in \u001b[0;36m_read_status\u001b[0;34m(self)\u001b[0m\n\u001b[1;32m    256\u001b[0m \u001b[1;33m\u001b[0m\u001b[0m\n\u001b[1;32m    257\u001b[0m     \u001b[1;32mdef\u001b[0m \u001b[0m_read_status\u001b[0m\u001b[1;33m(\u001b[0m\u001b[0mself\u001b[0m\u001b[1;33m)\u001b[0m\u001b[1;33m:\u001b[0m\u001b[1;33m\u001b[0m\u001b[0m\n\u001b[0;32m--> 258\u001b[0;31m         \u001b[0mline\u001b[0m \u001b[1;33m=\u001b[0m \u001b[0mstr\u001b[0m\u001b[1;33m(\u001b[0m\u001b[0mself\u001b[0m\u001b[1;33m.\u001b[0m\u001b[0mfp\u001b[0m\u001b[1;33m.\u001b[0m\u001b[0mreadline\u001b[0m\u001b[1;33m(\u001b[0m\u001b[0m_MAXLINE\u001b[0m \u001b[1;33m+\u001b[0m \u001b[1;36m1\u001b[0m\u001b[1;33m)\u001b[0m\u001b[1;33m,\u001b[0m \u001b[1;34m\"iso-8859-1\"\u001b[0m\u001b[1;33m)\u001b[0m\u001b[1;33m\u001b[0m\u001b[0m\n\u001b[0m\u001b[1;32m    259\u001b[0m         \u001b[1;32mif\u001b[0m \u001b[0mlen\u001b[0m\u001b[1;33m(\u001b[0m\u001b[0mline\u001b[0m\u001b[1;33m)\u001b[0m \u001b[1;33m>\u001b[0m \u001b[0m_MAXLINE\u001b[0m\u001b[1;33m:\u001b[0m\u001b[1;33m\u001b[0m\u001b[0m\n\u001b[1;32m    260\u001b[0m             \u001b[1;32mraise\u001b[0m \u001b[0mLineTooLong\u001b[0m\u001b[1;33m(\u001b[0m\u001b[1;34m\"status line\"\u001b[0m\u001b[1;33m)\u001b[0m\u001b[1;33m\u001b[0m\u001b[0m\n",
      "\u001b[0;32mC:\\Users\\JinbaoSite\\Anaconda3\\lib\\socket.py\u001b[0m in \u001b[0;36mreadinto\u001b[0;34m(self, b)\u001b[0m\n\u001b[1;32m    573\u001b[0m         \u001b[1;32mwhile\u001b[0m \u001b[1;32mTrue\u001b[0m\u001b[1;33m:\u001b[0m\u001b[1;33m\u001b[0m\u001b[0m\n\u001b[1;32m    574\u001b[0m             \u001b[1;32mtry\u001b[0m\u001b[1;33m:\u001b[0m\u001b[1;33m\u001b[0m\u001b[0m\n\u001b[0;32m--> 575\u001b[0;31m                 \u001b[1;32mreturn\u001b[0m \u001b[0mself\u001b[0m\u001b[1;33m.\u001b[0m\u001b[0m_sock\u001b[0m\u001b[1;33m.\u001b[0m\u001b[0mrecv_into\u001b[0m\u001b[1;33m(\u001b[0m\u001b[0mb\u001b[0m\u001b[1;33m)\u001b[0m\u001b[1;33m\u001b[0m\u001b[0m\n\u001b[0m\u001b[1;32m    576\u001b[0m             \u001b[1;32mexcept\u001b[0m \u001b[0mtimeout\u001b[0m\u001b[1;33m:\u001b[0m\u001b[1;33m\u001b[0m\u001b[0m\n\u001b[1;32m    577\u001b[0m                 \u001b[0mself\u001b[0m\u001b[1;33m.\u001b[0m\u001b[0m_timeout_occurred\u001b[0m \u001b[1;33m=\u001b[0m \u001b[1;32mTrue\u001b[0m\u001b[1;33m\u001b[0m\u001b[0m\n",
      "\u001b[0;31mKeyboardInterrupt\u001b[0m: "
     ]
    }
   ],
   "source": [
    "while True:\n",
    "    now_time = str(datetime.datetime.now())\n",
    "    #if '2018-07-14 13:59:59'==now_time[:19]:\n",
    "    ans = sess.post(\"http://www.dcjingsai.com/user/cmpt/commitResult.json\",data=d)\n",
    "    print(now_time)\n",
    "    print(ans.text)\n",
    "    if '2018-07-14 14:01:05'==now_time[:19]:\n",
    "        break"
   ]
  },
  {
   "cell_type": "code",
   "execution_count": null,
   "metadata": {
    "collapsed": true
   },
   "outputs": [],
   "source": []
  }
 ],
 "metadata": {
  "anaconda-cloud": {},
  "kernelspec": {
   "display_name": "Python [conda root]",
   "language": "python",
   "name": "conda-root-py"
  },
  "language_info": {
   "codemirror_mode": {
    "name": "ipython",
    "version": 3
   },
   "file_extension": ".py",
   "mimetype": "text/x-python",
   "name": "python",
   "nbconvert_exporter": "python",
   "pygments_lexer": "ipython3",
   "version": "3.5.2"
  }
 },
 "nbformat": 4,
 "nbformat_minor": 1
}
